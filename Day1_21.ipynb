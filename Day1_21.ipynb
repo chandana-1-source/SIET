{
  "nbformat": 4,
  "nbformat_minor": 0,
  "metadata": {
    "colab": {
      "provenance": [],
      "include_colab_link": true
    },
    "kernelspec": {
      "name": "python3",
      "display_name": "Python 3"
    },
    "language_info": {
      "name": "python"
    }
  },
  "cells": [
    {
      "cell_type": "markdown",
      "metadata": {
        "id": "view-in-github",
        "colab_type": "text"
      },
      "source": [
        "<a href=\"https://colab.research.google.com/github/chandana-1-source/SIET/blob/main/Day1_21.ipynb\" target=\"_parent\"><img src=\"https://colab.research.google.com/assets/colab-badge.svg\" alt=\"Open In Colab\"/></a>"
      ]
    },
    {
      "cell_type": "code",
      "source": [
        "import tensorflow as tf\n",
        "from tensorflow import keras\n",
        "from tensorflow.keras import layers\n",
        "from tensorflow.keras.preprocessing.image import ImageDataGenerator\n",
        "\n",
        "IMG_SIZE = 244\n",
        "BATCH_SIZE = 32"
      ],
      "metadata": {
        "id": "DNS312VhRPz2"
      },
      "execution_count": null,
      "outputs": []
    },
    {
      "cell_type": "code",
      "source": [
        "from tensorflow.keras.preprocessing.image import ImageDataGenerator\n",
        "\n",
        "# Define IMG_SIZE and BATCH_SIZE\n",
        "IMG_SIZE = 224\n",
        "BATCH_SIZE = 32\n",
        "train_datagen = ImageDataGenerator(rescale=1./255, validation_split=0.2)\n",
        "\n",
        "\n",
        "train_generator = train_datagen.flow_from_directory(\n",
        "    '/content/drive/MyDrive/ML_TEAM6/1SV21CS021/images',\n",
        "    target_size=(IMG_SIZE, IMG_SIZE),\n",
        "    batch_size=BATCH_SIZE,\n",
        "    class_mode='categorical',\n",
        "    subset='training'\n",
        ")\n",
        "\n",
        "val_generator = train_datagen.flow_from_directory(\n",
        "    '/content/drive/MyDrive/ML_TEAM6/1SV21CS021/images',\n",
        "    target_size=(IMG_SIZE, IMG_SIZE),\n",
        "    batch_size=BATCH_SIZE,\n",
        "    class_mode='categorical',\n",
        "    subset='validation'\n",
        ")\n"
      ],
      "metadata": {
        "colab": {
          "base_uri": "https://localhost:8080/"
        },
        "id": "XtzBFyr_qSem",
        "outputId": "568a3312-2029-411f-9abc-38a4917167f3"
      },
      "execution_count": null,
      "outputs": [
        {
          "output_type": "stream",
          "name": "stdout",
          "text": [
            "Found 273 images belonging to 5 classes.\n",
            "Found 66 images belonging to 5 classes.\n"
          ]
        }
      ]
    },
    {
      "cell_type": "code",
      "source": [
        "from google.colab import drive\n",
        "drive.mount('/content/drive')"
      ],
      "metadata": {
        "colab": {
          "base_uri": "https://localhost:8080/"
        },
        "id": "t0HTdrPKSXu3",
        "outputId": "622f2614-fb20-42e0-f79e-41c3e2a34625"
      },
      "execution_count": null,
      "outputs": [
        {
          "output_type": "stream",
          "name": "stdout",
          "text": [
            "Drive already mounted at /content/drive; to attempt to forcibly remount, call drive.mount(\"/content/drive\", force_remount=True).\n"
          ]
        }
      ]
    },
    {
      "cell_type": "code",
      "source": [
        "# Define the model\n",
        "model = keras.Sequential([\n",
        "    layers.Conv2D(32, (3,3), activation='relu', input_shape=(IMG_SIZE, IMG_SIZE, 3)),\n",
        "    layers.MaxPooling2D(2,2),\n",
        "    layers.Conv2D(64, (3,3), activation='relu'),\n",
        "    layers.MaxPooling2D(2,2),\n",
        "    layers.Conv2D(128, (3,3), activation='relu'),\n",
        "    layers.MaxPooling2D(2,2),\n",
        "    layers.Flatten(),\n",
        "    layers.Dense(128, activation='relu'),\n",
        "    layers.Dense(1,activation='softmax')  # Output layer for multi-class classification\n",
        "])\n",
        "\n"
      ],
      "metadata": {
        "id": "-T2eV4nOr2Aw"
      },
      "execution_count": null,
      "outputs": []
    },
    {
      "cell_type": "code",
      "source": [
        "model.compile(optimizer='adam', loss='binary_crossentropy', metrics=['accuracy'])"
      ],
      "metadata": {
        "id": "fIB6cseCsNq6"
      },
      "execution_count": null,
      "outputs": []
    },
    {
      "cell_type": "code",
      "source": [
        "model.fit(train_generator, validation_data=val_generator, epochs=5)"
      ],
      "metadata": {
        "colab": {
          "base_uri": "https://localhost:8080/"
        },
        "id": "02kRlrlNtF31",
        "outputId": "a92f4005-bc96-417c-c2da-7d070c463d24"
      },
      "execution_count": null,
      "outputs": [
        {
          "output_type": "stream",
          "name": "stdout",
          "text": [
            "Epoch 1/5\n",
            "9/9 [==============================] - 42s 4s/step - loss: 1.1406 - accuracy: 0.2000 - val_loss: 0.5438 - val_accuracy: 0.2000\n",
            "Epoch 2/5\n",
            "9/9 [==============================] - 37s 4s/step - loss: 0.5183 - accuracy: 0.2000 - val_loss: 0.5129 - val_accuracy: 0.2000\n",
            "Epoch 3/5\n",
            "9/9 [==============================] - 40s 4s/step - loss: 0.5060 - accuracy: 0.2000 - val_loss: 0.5064 - val_accuracy: 0.2000\n",
            "Epoch 4/5\n",
            "9/9 [==============================] - 37s 4s/step - loss: 0.5028 - accuracy: 0.2000 - val_loss: 0.5028 - val_accuracy: 0.2000\n",
            "Epoch 5/5\n",
            "9/9 [==============================] - 41s 5s/step - loss: 0.5014 - accuracy: 0.2000 - val_loss: 0.5015 - val_accuracy: 0.2000\n"
          ]
        },
        {
          "output_type": "execute_result",
          "data": {
            "text/plain": [
              "<keras.src.callbacks.History at 0x7ea418307bb0>"
            ]
          },
          "metadata": {},
          "execution_count": 30
        }
      ]
    },
    {
      "cell_type": "code",
      "source": [
        "model.save(\"Model.h5\",\"label.txt\")"
      ],
      "metadata": {
        "id": "_PuqSHkv1CuK"
      },
      "execution_count": null,
      "outputs": []
    },
    {
      "cell_type": "code",
      "source": [
        "from tensorflow.keras.models import load_model\n",
        "from tensorflow.keras.preprocessing import image\n",
        "import numpy as np\n",
        "\n",
        "model = load_model('Model.h5')\n",
        "test_image_path = '/content/drive/MyDrive/ML_TEAM6/1SV21CS021/images/Blue budgies/Blue_budgie (1).jpeg'\n",
        "img = image.load_img(test_image_path, target_size=(224, 224))\n",
        "img_array = image.img_to_array(img)\n",
        "img_array = np.expand_dims(img_array, axis=0)\n",
        "\n",
        "img_array = img_array / 255.0\n",
        "\n",
        "predictions = model.predict(img_array)\n",
        "print(predictions)"
      ],
      "metadata": {
        "colab": {
          "base_uri": "https://localhost:8080/"
        },
        "id": "3ErQ-suf597n",
        "outputId": "a8e94611-09ea-4e52-ddec-701d53505f52"
      },
      "execution_count": null,
      "outputs": [
        {
          "output_type": "stream",
          "name": "stdout",
          "text": [
            "1/1 [==============================] - 0s 251ms/step\n",
            "[[1.]]\n"
          ]
        }
      ]
    },
    {
      "cell_type": "code",
      "source": [
        "if predictions < 0.5:\n",
        "    print('It is a Blue budgies')\n",
        "else:\n",
        "    print('It is a Yellow budgies')"
      ],
      "metadata": {
        "colab": {
          "base_uri": "https://localhost:8080/"
        },
        "id": "rj3_JtKO8DG2",
        "outputId": "356c3950-ce13-4de0-952a-7e1c38758c42"
      },
      "execution_count": 36,
      "outputs": [
        {
          "output_type": "stream",
          "name": "stdout",
          "text": [
            "It is a Yellow budgies\n"
          ]
        }
      ]
    }
  ]
}